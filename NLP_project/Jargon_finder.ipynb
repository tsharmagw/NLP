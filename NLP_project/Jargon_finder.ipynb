{
 "cells": [
  {
   "cell_type": "code",
   "execution_count": 1,
   "metadata": {},
   "outputs": [],
   "source": [
    "#@author - Tejasvi Sharma\n",
    "#Jargon Finder\n",
    "import nltk.data\n",
    "from os import listdir\n",
    "from os.path import isfile, join\n",
    "from nltk.util import bigrams \n",
    "from nltk.tokenize import TreebankWordTokenizer\n",
    "import re"
   ]
  },
  {
   "cell_type": "code",
   "execution_count": 2,
   "metadata": {},
   "outputs": [],
   "source": [
    "sentence_tokenizer = nltk.data.load('tokenizers/punkt/english.pickle')\n",
    "treebank_tokenizer = TreebankWordTokenizer()\n",
    "stop_words=set(stopwords.words('english'))\n",
    "\n",
    "#\n",
    "dir_base = \"./text/mstreetbank_text/\"\n",
    "\n",
    "def read_file(filename):\n",
    "    input_file_text = open(filename , encoding='utf-8').read()\n",
    "    return input_file_text\n",
    "\n",
    "Files_corpus=[]\n",
    "#this function will read all the files in the directory and store data in a list one by one by file.   \n",
    "def read_directory_files(directory):\n",
    "    file_texts = []\n",
    "    files = []\n",
    "    for f in listdir(directory):\n",
    "        if(isfile(join(directory, f))):\n",
    "            files.append(join(directory, f))\n",
    "        else:\n",
    "            for pages in listdir(join(directory, f)):\n",
    "                if(isfile(join(join(directory, f),pages))):\n",
    "                    files.append(join(join(directory, f),pages))\n",
    "    \n",
    "    for f in files:\n",
    "        file_texts.append(read_file(f))\n",
    "    return files,file_texts\n",
    "    \n",
    "#text_corpus has all the document data in lists\n",
    "Files_corpus,text_corpus = read_directory_files(dir_base)\n",
    "\n",
    "\n",
    "#this function will read the text data and tokenize it first by sentence then by word in that sentence.\n",
    "def read_text_and_tokenize(text_data):\n",
    "    punkt_sentences = sentence_tokenizer.tokenize(text_data)\n",
    "    sentences_words = [treebank_tokenizer.tokenize(sentence) for sentence in punkt_sentences]\n",
    "    return sentences_words"
   ]
  },
  {
   "cell_type": "code",
   "execution_count": null,
   "metadata": {},
   "outputs": [],
   "source": []
  }
 ],
 "metadata": {
  "kernelspec": {
   "display_name": "Python 3",
   "language": "python",
   "name": "python3"
  },
  "language_info": {
   "codemirror_mode": {
    "name": "ipython",
    "version": 3
   },
   "file_extension": ".py",
   "mimetype": "text/x-python",
   "name": "python",
   "nbconvert_exporter": "python",
   "pygments_lexer": "ipython3",
   "version": "3.5.2"
  }
 },
 "nbformat": 4,
 "nbformat_minor": 2
}
